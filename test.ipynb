{
 "cells": [
  {
   "cell_type": "code",
   "execution_count": 1,
   "metadata": {},
   "outputs": [],
   "source": [
    "import decision_tree as TreeLib\n",
    "from env import *\n",
    "\n",
    "stateSize = getStateSize()\n",
    "F = np.random.uniform(-1, 1, stateSize)\n",
    "\n",
    "actionSize = getActionSize()\n",
    "left_arr = np.arange(actionSize, dtype=np.float64)\n",
    "np.random.shuffle(left_arr)\n",
    "right_arr = np.arange(actionSize, dtype=np.float64)\n",
    "np.random.shuffle(right_arr)\n",
    "\n",
    "__MAX_NODE__ = 2000"
   ]
  },
  {
   "cell_type": "code",
   "execution_count": 2,
   "metadata": {},
   "outputs": [],
   "source": [
    "@njit\n",
    "def Ann(state, perData):\n",
    "    validActions = getValidActions(state)\n",
    "    weight = TreeLib.get_decision_from_tree(state, perData)\n",
    "    action = np.argmax(weight * validActions + validActions)\n",
    "    return action, perData"
   ]
  },
  {
   "cell_type": "code",
   "execution_count": 3,
   "metadata": {},
   "outputs": [
    {
     "data": {
      "text/plain": [
       "50"
      ]
     },
     "execution_count": 3,
     "metadata": {},
     "output_type": "execute_result"
    }
   ],
   "source": [
    "win = 0\n",
    "while win < 50:\n",
    "    tree = TreeLib.init_tree(F, left_arr, right_arr, __MAX_NODE__)\n",
    "    while np.where(tree[3][0] == 1)[0].shape[0] < 1000:\n",
    "        for i in range(4):\n",
    "            k = i % 4\n",
    "            F = np.random.uniform(-1, 1, stateSize)\n",
    "            np.random.shuffle(left_arr)\n",
    "            np.random.shuffle(right_arr)\n",
    "            nodes = np.where(tree[3][0] == 1)[0]\n",
    "            node_idx = nodes[np.random.randint(0, nodes.shape[0])]\n",
    "            parent_branch = np.random.randint(0, 2)\n",
    "            child_branch = np.random.randint(0, 2)\n",
    "            if k == 0:\n",
    "                TreeLib.insert_after(tree, node_idx, F, parent_branch, child_branch, left_arr)\n",
    "            elif k == 1:\n",
    "                TreeLib.insert_before(tree, node_idx, F, child_branch, left_arr)\n",
    "            elif k == 2:\n",
    "                if np.random.rand() < 0.01:\n",
    "                    TreeLib.insert_after_and_replace_child_branch(tree, node_idx, F, parent_branch, left_arr, right_arr)\n",
    "            elif k == 3:\n",
    "                if np.random.rand() < 0.01:\n",
    "                    TreeLib.insert_before_and_replace_child_branch(tree, node_idx, F, left_arr, right_arr)\n",
    "\n",
    "    win, tree = numba_main_2(Ann, 100, tree, 0)\n",
    "\n",
    "win"
   ]
  },
  {
   "cell_type": "code",
   "execution_count": 4,
   "metadata": {},
   "outputs": [
    {
     "data": {
      "text/plain": [
       "611"
      ]
     },
     "execution_count": 4,
     "metadata": {},
     "output_type": "execute_result"
    }
   ],
   "source": [
    "win, tree = numba_main_2(Ann, 1000, tree, 0)\n",
    "win"
   ]
  },
  {
   "cell_type": "code",
   "execution_count": 5,
   "metadata": {},
   "outputs": [
    {
     "name": "stderr",
     "output_type": "stream",
     "text": [
      "c:\\Users\\AnnNg\\AppData\\Local\\Programs\\Python\\Python310\\lib\\site-packages\\numpy\\lib\\npyio.py:521: VisibleDeprecationWarning: Creating an ndarray from ragged nested sequences (which is a list-or-tuple of lists-or-tuples-or ndarrays with different lengths or shapes) is deprecated. If you meant to do this, you must specify 'dtype=object' when creating the ndarray.\n",
      "  arr = np.asanyarray(arr)\n"
     ]
    }
   ],
   "source": [
    "np.save(\"tree.npy\", tree)"
   ]
  }
 ],
 "metadata": {
  "kernelspec": {
   "display_name": "Python 3",
   "language": "python",
   "name": "python3"
  },
  "language_info": {
   "codemirror_mode": {
    "name": "ipython",
    "version": 3
   },
   "file_extension": ".py",
   "mimetype": "text/x-python",
   "name": "python",
   "nbconvert_exporter": "python",
   "pygments_lexer": "ipython3",
   "version": "3.10.9"
  },
  "orig_nbformat": 4,
  "vscode": {
   "interpreter": {
    "hash": "9aef4f9ca9773b159aa853cd9e8b578a0bcf10fc07e4ea62b76fecf3cbb83bd6"
   }
  }
 },
 "nbformat": 4,
 "nbformat_minor": 2
}
